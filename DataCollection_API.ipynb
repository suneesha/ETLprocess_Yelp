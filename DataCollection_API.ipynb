{
 "cells": [
  {
   "cell_type": "code",
   "execution_count": 53,
   "metadata": {
    "collapsed": false
   },
   "outputs": [
    {
     "name": "stdout",
     "output_type": "stream",
     "text": [
      "Yelp Search Feed Collected Sucessfully\n"
     ]
    }
   ],
   "source": [
    "# Author : Suneesha Kudipudi\n",
    "# DataCollection_API.py  - It is programmed to collect the searchfeed from yelp api and store it in flatfile .\n",
    "import rauth\n",
    "import time\n",
    "import pandas as pd\n",
    "import re\n",
    "def main():\n",
    "        criteria=[\"fun things to do\",\"restaurants\",\"cafes\",\"businesses\",\"attractions\"]\n",
    "        api_calls = []\n",
    "        fileName='feed.txt'\n",
    "        # Pipelining the feed to the flatfile\n",
    "        feedPreparation(fileName,criteria)\n",
    "        print \"Yelp Search Feed Collected Sucessfully\"\n",
    "        \n",
    "        \n",
    "## function to store the feed in the pipe delimited file\n",
    "def feedPreparation(fileName,criteria):\n",
    "        f=open(fileName,'w')\n",
    "        for x in criteria:\n",
    "            params = get_search_parameters(x)\n",
    "            d=get_results(params)\n",
    "            if 'businesses' in d:\n",
    "             for business in d['businesses']:\n",
    "                  k = '%s|%s|%s|%s|%s|%s|%s|%s\\n' % (business['name'],business['rating'],business['review_count'],\n",
    "                        getCategories(business['categories']),' '.join(business['location']['display_address']),\n",
    "                        business['location']['coordinate']['latitude'],business['location']['coordinate']['longitude'],x)\n",
    "                  f.write(k.encode('utf-8')) # writing to the output file\n",
    "            \n",
    "            #Be a good internet citizen and rate-limit yourself\n",
    "            time.sleep(1.0)\n",
    "        f.close()\n",
    "    \n",
    "# function to interact with the YELP API\n",
    "def get_results(params):\n",
    "    \n",
    "    #Obtain these from Yelp's manage access page\n",
    "    consumer_key = \"****\"\n",
    "    consumer_secret = \"****\"\n",
    "    token = \"****\"\n",
    "    token_secret = \"****\"\n",
    "    \n",
    "    session = rauth.OAuth1Session(\n",
    "                                  consumer_key = consumer_key\n",
    "                                  ,consumer_secret = consumer_secret\n",
    "                                  ,access_token = token\n",
    "                                  ,access_token_secret = token_secret)\n",
    "        \n",
    "    request = session.get(\"http://api.yelp.com/v2/search\",params=params)\n",
    "                                  \n",
    "    #Transforms the JSON API response into a Python dictionary\n",
    "    data = request.json()\n",
    "    session.close()\n",
    "\n",
    "    return data\n",
    "\n",
    "# function to define the search parameters\n",
    "def get_search_parameters(criteria):\n",
    "    #See the Yelp API for more details\n",
    "    params = {}\n",
    "    params[\"term\"] = criteria \n",
    "    params[\"location\"]=\"San Francisco\"\n",
    "    params[\"radius_filter\"] = \"2000\"\n",
    "    params[\"limit\"] = \"20\"\n",
    "    #params[\"sort\"]= 2\n",
    "    \n",
    "    return params\n",
    "\n",
    "# Preprocessing the categories to eliminate the duplicates\n",
    "def getCategories(categories):\n",
    "    cat=''\n",
    "    for k in categories:\n",
    "        temp=map(getProcessedString,k)\n",
    "        if temp[0]!=temp[1]:\n",
    "           cat=cat+','.join(temp)+','\n",
    "        else:\n",
    "           cat=cat+temp[0]+','\n",
    "    cat=cat[:-1]\n",
    "    return cat\n",
    "    \n",
    "# string preprocessing to eliminate the special characters\n",
    "\n",
    "def getProcessedString(s):\n",
    "    # code to remove any special characters\n",
    "    s=re.sub('[^A-Za-z0-9]+',' ',s)\n",
    "    return s.lower()\n",
    "\n",
    "\n",
    "if __name__==\"__main__\":\n",
    "    main()"
   ]
  },
  {
   "cell_type": "code",
   "execution_count": null,
   "metadata": {
    "collapsed": true
   },
   "outputs": [],
   "source": []
  }
 ],
 "metadata": {
  "kernelspec": {
   "display_name": "Python 2",
   "language": "python",
   "name": "python2"
  },
  "language_info": {
   "codemirror_mode": {
    "name": "ipython",
    "version": 2
   },
   "file_extension": ".py",
   "mimetype": "text/x-python",
   "name": "python",
   "nbconvert_exporter": "python",
   "pygments_lexer": "ipython2",
   "version": "2.7.11"
  }
 },
 "nbformat": 4,
 "nbformat_minor": 0
}
